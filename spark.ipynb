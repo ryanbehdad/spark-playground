{
 "cells": [
  {
   "cell_type": "markdown",
   "metadata": {},
   "source": [
    "# Spark\n",
    "Play with different functionalities of spark (pyspark) in Jypyter notebook"
   ]
  },
  {
   "cell_type": "code",
   "execution_count": 1,
   "metadata": {
    "ExecuteTime": {
     "end_time": "2020-07-28T05:24:09.810584Z",
     "start_time": "2020-07-28T05:24:05.208163Z"
    }
   },
   "outputs": [],
   "source": [
    "import pandas as pd\n",
    "from pyspark.sql import SparkSession\n",
    "import pyspark.sql.functions as F\n",
    "spark = SparkSession.builder.appName(\"notebook\").getOrCreate()"
   ]
  },
  {
   "cell_type": "markdown",
   "metadata": {},
   "source": [
    "# Read csv"
   ]
  },
  {
   "cell_type": "code",
   "execution_count": 2,
   "metadata": {
    "ExecuteTime": {
     "end_time": "2020-07-28T05:24:13.184236Z",
     "start_time": "2020-07-28T05:24:09.812585Z"
    }
   },
   "outputs": [],
   "source": [
    "file_name=\"data/results.csv\"\n",
    "df = spark.read.options(header=\"true\").csv(file_name)"
   ]
  },
  {
   "cell_type": "markdown",
   "metadata": {},
   "source": [
    "# Show dataframe"
   ]
  },
  {
   "cell_type": "code",
   "execution_count": 3,
   "metadata": {
    "ExecuteTime": {
     "end_time": "2020-07-28T05:24:13.358166Z",
     "start_time": "2020-07-28T05:24:13.188582Z"
    }
   },
   "outputs": [
    {
     "name": "stdout",
     "output_type": "stream",
     "text": [
      "+----------+---------+---------+----------+----------+----------+-------+--------+-------+\n",
      "|      date|home_team|away_team|home_score|away_score|tournament|   city| country|neutral|\n",
      "+----------+---------+---------+----------+----------+----------+-------+--------+-------+\n",
      "|1872-11-30| Scotland|  England|         0|         0|  Friendly|Glasgow|Scotland|  FALSE|\n",
      "|1873-03-08|  England| Scotland|         4|         2|  Friendly| London| England|  FALSE|\n",
      "|1874-03-07| Scotland|  England|         2|         1|  Friendly|Glasgow|Scotland|  FALSE|\n",
      "|1875-03-06|  England| Scotland|         2|         2|  Friendly| London| England|  FALSE|\n",
      "+----------+---------+---------+----------+----------+----------+-------+--------+-------+\n",
      "only showing top 4 rows\n",
      "\n"
     ]
    }
   ],
   "source": [
    "df.show(4)"
   ]
  },
  {
   "cell_type": "code",
   "execution_count": 4,
   "metadata": {
    "ExecuteTime": {
     "end_time": "2020-07-28T05:24:13.389171Z",
     "start_time": "2020-07-28T05:24:13.360166Z"
    }
   },
   "outputs": [
    {
     "data": {
      "text/plain": [
       "['date',\n",
       " 'home_team',\n",
       " 'away_team',\n",
       " 'home_score',\n",
       " 'away_score',\n",
       " 'tournament',\n",
       " 'city',\n",
       " 'country',\n",
       " 'neutral']"
      ]
     },
     "execution_count": 4,
     "metadata": {},
     "output_type": "execute_result"
    }
   ],
   "source": [
    "df.columns"
   ]
  },
  {
   "cell_type": "code",
   "execution_count": 5,
   "metadata": {
    "ExecuteTime": {
     "end_time": "2020-07-28T05:24:13.404168Z",
     "start_time": "2020-07-28T05:24:13.390166Z"
    }
   },
   "outputs": [
    {
     "data": {
      "text/plain": [
       "[('date', 'string'),\n",
       " ('home_team', 'string'),\n",
       " ('away_team', 'string'),\n",
       " ('home_score', 'string'),\n",
       " ('away_score', 'string'),\n",
       " ('tournament', 'string'),\n",
       " ('city', 'string'),\n",
       " ('country', 'string'),\n",
       " ('neutral', 'string')]"
      ]
     },
     "execution_count": 5,
     "metadata": {},
     "output_type": "execute_result"
    }
   ],
   "source": [
    "df.dtypes"
   ]
  },
  {
   "cell_type": "code",
   "execution_count": 6,
   "metadata": {
    "ExecuteTime": {
     "end_time": "2020-07-28T05:24:13.420171Z",
     "start_time": "2020-07-28T05:24:13.408176Z"
    }
   },
   "outputs": [
    {
     "data": {
      "text/plain": [
       "StructType(List(StructField(date,StringType,true),StructField(home_team,StringType,true),StructField(away_team,StringType,true),StructField(home_score,StringType,true),StructField(away_score,StringType,true),StructField(tournament,StringType,true),StructField(city,StringType,true),StructField(country,StringType,true),StructField(neutral,StringType,true)))"
      ]
     },
     "execution_count": 6,
     "metadata": {},
     "output_type": "execute_result"
    }
   ],
   "source": [
    "df.schema"
   ]
  },
  {
   "cell_type": "code",
   "execution_count": 7,
   "metadata": {
    "ExecuteTime": {
     "end_time": "2020-07-28T05:24:13.577620Z",
     "start_time": "2020-07-28T05:24:13.424173Z"
    },
    "scrolled": false
   },
   "outputs": [
    {
     "name": "stdout",
     "output_type": "stream",
     "text": [
      "+----------+---------+---------+----------+----------+\n",
      "|      date|home_team|away_team|home_score|away_score|\n",
      "+----------+---------+---------+----------+----------+\n",
      "|1872-11-30| Scotland|  England|         0|         0|\n",
      "|1873-03-08|  England| Scotland|         4|         2|\n",
      "|1874-03-07| Scotland|  England|         2|         1|\n",
      "|1875-03-06|  England| Scotland|         2|         2|\n",
      "+----------+---------+---------+----------+----------+\n",
      "only showing top 4 rows\n",
      "\n"
     ]
    }
   ],
   "source": [
    "cols = ['date', 'home_team', 'away_team', 'home_score', 'away_score']\n",
    "df[cols].show(4)"
   ]
  },
  {
   "cell_type": "markdown",
   "metadata": {},
   "source": [
    "# Rename columns\n",
    "Spark dataframes are immutable. So, you need to create a new dataframe with new names."
   ]
  },
  {
   "cell_type": "code",
   "execution_count": 8,
   "metadata": {
    "ExecuteTime": {
     "end_time": "2020-07-28T05:24:13.719621Z",
     "start_time": "2020-07-28T05:24:13.580621Z"
    },
    "scrolled": true
   },
   "outputs": [
    {
     "name": "stdout",
     "output_type": "stream",
     "text": [
      "+----------+--------------+--------------+----------+----------+----------+-------+--------+-------+\n",
      "|match_date|home_team_name|away_team_name|home_score|away_score|tournament|   city| country|neutral|\n",
      "+----------+--------------+--------------+----------+----------+----------+-------+--------+-------+\n",
      "|1872-11-30|      Scotland|       England|         0|         0|  Friendly|Glasgow|Scotland|  FALSE|\n",
      "|1873-03-08|       England|      Scotland|         4|         2|  Friendly| London| England|  FALSE|\n",
      "|1874-03-07|      Scotland|       England|         2|         1|  Friendly|Glasgow|Scotland|  FALSE|\n",
      "+----------+--------------+--------------+----------+----------+----------+-------+--------+-------+\n",
      "only showing top 3 rows\n",
      "\n"
     ]
    }
   ],
   "source": [
    "df2 = df.toDF('match_date', 'home_team_name', 'away_team_name', 'home_score', 'away_score', 'tournament',\n",
    "              'city', 'country', 'neutral')\n",
    "df2.show(3)"
   ]
  },
  {
   "cell_type": "markdown",
   "metadata": {},
   "source": [
    "## Rename individual columns (one at a time)"
   ]
  },
  {
   "cell_type": "code",
   "execution_count": 9,
   "metadata": {
    "ExecuteTime": {
     "end_time": "2020-07-28T05:24:13.813623Z",
     "start_time": "2020-07-28T05:24:13.722622Z"
    },
    "scrolled": true
   },
   "outputs": [
    {
     "name": "stdout",
     "output_type": "stream",
     "text": [
      "+----------+---------+---------+----------+----------+----------+-------+--------+-----+\n",
      "|match_date|home_team|away_team|home_score|away_score|tournament|   city| country| blah|\n",
      "+----------+---------+---------+----------+----------+----------+-------+--------+-----+\n",
      "|1872-11-30| Scotland|  England|         0|         0|  Friendly|Glasgow|Scotland|FALSE|\n",
      "|1873-03-08|  England| Scotland|         4|         2|  Friendly| London| England|FALSE|\n",
      "|1874-03-07| Scotland|  England|         2|         1|  Friendly|Glasgow|Scotland|FALSE|\n",
      "+----------+---------+---------+----------+----------+----------+-------+--------+-----+\n",
      "only showing top 3 rows\n",
      "\n"
     ]
    }
   ],
   "source": [
    "df2 = df.withColumnRenamed('date', 'match_date').withColumnRenamed('neutral', 'blah')\n",
    "df2.show(3)"
   ]
  },
  {
   "cell_type": "markdown",
   "metadata": {},
   "source": [
    "# Drop columns"
   ]
  },
  {
   "cell_type": "code",
   "execution_count": 10,
   "metadata": {
    "ExecuteTime": {
     "end_time": "2020-07-28T05:24:13.922619Z",
     "start_time": "2020-07-28T05:24:13.815622Z"
    },
    "scrolled": true
   },
   "outputs": [
    {
     "name": "stdout",
     "output_type": "stream",
     "text": [
      "+----------+---------+---------+----------+----------+-------+--------+\n",
      "|      date|home_team|away_team|home_score|away_score|   city| country|\n",
      "+----------+---------+---------+----------+----------+-------+--------+\n",
      "|1872-11-30| Scotland|  England|         0|         0|Glasgow|Scotland|\n",
      "|1873-03-08|  England| Scotland|         4|         2| London| England|\n",
      "|1874-03-07| Scotland|  England|         2|         1|Glasgow|Scotland|\n",
      "+----------+---------+---------+----------+----------+-------+--------+\n",
      "only showing top 3 rows\n",
      "\n"
     ]
    }
   ],
   "source": [
    "df.drop('tournament', 'neutral').show(3)"
   ]
  },
  {
   "cell_type": "markdown",
   "metadata": {},
   "source": [
    "# Filtering"
   ]
  },
  {
   "cell_type": "code",
   "execution_count": 11,
   "metadata": {
    "ExecuteTime": {
     "end_time": "2020-07-28T05:24:14.235621Z",
     "start_time": "2020-07-28T05:24:13.924623Z"
    }
   },
   "outputs": [
    {
     "name": "stdout",
     "output_type": "stream",
     "text": [
      "+----------+---------+---------+----------+----------+----------+------+-------+-------+\n",
      "|      date|home_team|away_team|home_score|away_score|tournament|  city|country|neutral|\n",
      "+----------+---------+---------+----------+----------+----------+------+-------+-------+\n",
      "|1881-03-12|  England| Scotland|         1|         6|  Friendly|London|England|  FALSE|\n",
      "|1953-11-25|  England|  Hungary|         3|         6|  Friendly|London|England|  FALSE|\n",
      "|2018-04-15|   Barawa|Yorkshire|         2|         7|  Friendly|London|England|  FALSE|\n",
      "+----------+---------+---------+----------+----------+----------+------+-------+-------+\n",
      "\n"
     ]
    }
   ],
   "source": [
    "df[(df.city == 'London') & (df.away_score > 5)].show(5)"
   ]
  },
  {
   "cell_type": "markdown",
   "metadata": {},
   "source": [
    "# Add columns"
   ]
  },
  {
   "cell_type": "code",
   "execution_count": 12,
   "metadata": {
    "ExecuteTime": {
     "end_time": "2020-07-28T05:24:14.361624Z",
     "start_time": "2020-07-28T05:24:14.236620Z"
    }
   },
   "outputs": [
    {
     "name": "stdout",
     "output_type": "stream",
     "text": [
      "+----------+---------+---------+----------+----------+----------+-------+--------+-------+--------+\n",
      "|      date|home_team|away_team|home_score|away_score|tournament|   city| country|neutral|goal_dif|\n",
      "+----------+---------+---------+----------+----------+----------+-------+--------+-------+--------+\n",
      "|1872-11-30| Scotland|  England|         0|         0|  Friendly|Glasgow|Scotland|  FALSE|     0.0|\n",
      "|1873-03-08|  England| Scotland|         4|         2|  Friendly| London| England|  FALSE|     2.0|\n",
      "|1874-03-07| Scotland|  England|         2|         1|  Friendly|Glasgow|Scotland|  FALSE|     1.0|\n",
      "|1875-03-06|  England| Scotland|         2|         2|  Friendly| London| England|  FALSE|     0.0|\n",
      "|1876-03-04| Scotland|  England|         3|         0|  Friendly|Glasgow|Scotland|  FALSE|     3.0|\n",
      "+----------+---------+---------+----------+----------+----------+-------+--------+-------+--------+\n",
      "only showing top 5 rows\n",
      "\n"
     ]
    }
   ],
   "source": [
    "df = df.withColumn('goal_dif', df.home_score - df.away_score)\n",
    "df.show(5)"
   ]
  },
  {
   "cell_type": "markdown",
   "metadata": {
    "ExecuteTime": {
     "end_time": "2020-07-28T03:46:38.565209Z",
     "start_time": "2020-07-28T03:46:38.544211Z"
    }
   },
   "source": [
    "# Fill NAs"
   ]
  },
  {
   "cell_type": "code",
   "execution_count": 13,
   "metadata": {
    "ExecuteTime": {
     "end_time": "2020-07-28T05:24:14.563619Z",
     "start_time": "2020-07-28T05:24:14.364625Z"
    }
   },
   "outputs": [
    {
     "name": "stdout",
     "output_type": "stream",
     "text": [
      "+----------+---------+---------+----------+----------+----------+-------+--------+-------+--------+\n",
      "|      date|home_team|away_team|home_score|away_score|tournament|   city| country|neutral|goal_dif|\n",
      "+----------+---------+---------+----------+----------+----------+-------+--------+-------+--------+\n",
      "|1872-11-30| Scotland|  England|         0|         0|  Friendly|Glasgow|Scotland|  FALSE|     0.0|\n",
      "|1873-03-08|  England| Scotland|         4|         2|  Friendly| London| England|  FALSE|     2.0|\n",
      "+----------+---------+---------+----------+----------+----------+-------+--------+-------+--------+\n",
      "only showing top 2 rows\n",
      "\n"
     ]
    }
   ],
   "source": [
    "df.fillna(0).show(2)"
   ]
  },
  {
   "cell_type": "markdown",
   "metadata": {},
   "source": [
    "# Aggregation"
   ]
  },
  {
   "cell_type": "code",
   "execution_count": 14,
   "metadata": {
    "ExecuteTime": {
     "end_time": "2020-07-28T05:24:15.746841Z",
     "start_time": "2020-07-28T05:24:14.565622Z"
    }
   },
   "outputs": [
    {
     "name": "stdout",
     "output_type": "stream",
     "text": [
      "+----------+--------------+-------------------+---------------+\n",
      "| home_team|     away_team|      avg(goal_dif)|min(away_score)|\n",
      "+----------+--------------+-------------------+---------------+\n",
      "|Bangladesh|      Malaysia|               -3.5|              1|\n",
      "|   Belgium|    San Marino|                8.0|              0|\n",
      "|  Cambodia|Chinese Taipei|               -1.0|              0|\n",
      "|    Canada|          Iran|-0.3333333333333333|              0|\n",
      "|     Chile|       Uruguay|-0.2916666666666667|              0|\n",
      "+----------+--------------+-------------------+---------------+\n",
      "only showing top 5 rows\n",
      "\n"
     ]
    }
   ],
   "source": [
    "df.groupby(['home_team', 'away_team']) \\\n",
    "    .agg({'goal_dif': 'mean', 'away_score': 'min'}).show(5)"
   ]
  },
  {
   "cell_type": "markdown",
   "metadata": {},
   "source": [
    "# Transformation\n",
    "Use pyspark built-in functions as much as possible (for intance instead of numpy or custom functions)"
   ]
  },
  {
   "cell_type": "markdown",
   "metadata": {},
   "source": [
    "## Simple transformation"
   ]
  },
  {
   "cell_type": "code",
   "execution_count": 15,
   "metadata": {
    "ExecuteTime": {
     "end_time": "2020-07-28T05:24:15.873867Z",
     "start_time": "2020-07-28T05:24:15.749004Z"
    },
    "scrolled": true
   },
   "outputs": [
    {
     "name": "stdout",
     "output_type": "stream",
     "text": [
      "+----------+---------+---------+----------+----------+----------+-------+--------+-------+--------+------------------+\n",
      "|      date|home_team|away_team|home_score|away_score|tournament|   city| country|neutral|goal_dif|      log_goal_dif|\n",
      "+----------+---------+---------+----------+----------+----------+-------+--------+-------+--------+------------------+\n",
      "|1872-11-30| Scotland|  England|         0|         0|  Friendly|Glasgow|Scotland|  FALSE|     0.0|              null|\n",
      "|1873-03-08|  England| Scotland|         4|         2|  Friendly| London| England|  FALSE|     2.0|0.6931471805599453|\n",
      "|1874-03-07| Scotland|  England|         2|         1|  Friendly|Glasgow|Scotland|  FALSE|     1.0|               0.0|\n",
      "|1875-03-06|  England| Scotland|         2|         2|  Friendly| London| England|  FALSE|     0.0|              null|\n",
      "+----------+---------+---------+----------+----------+----------+-------+--------+-------+--------+------------------+\n",
      "only showing top 4 rows\n",
      "\n"
     ]
    }
   ],
   "source": [
    "import pyspark.sql.functions as F\n",
    "df.withColumn('log_goal_dif', F.log(df.goal_dif)).show(4)"
   ]
  },
  {
   "cell_type": "markdown",
   "metadata": {},
   "source": [
    "## Conditional transformation"
   ]
  },
  {
   "cell_type": "code",
   "execution_count": 16,
   "metadata": {
    "ExecuteTime": {
     "end_time": "2020-07-28T05:24:16.051066Z",
     "start_time": "2020-07-28T05:24:15.875867Z"
    },
    "scrolled": true
   },
   "outputs": [
    {
     "name": "stdout",
     "output_type": "stream",
     "text": [
      "+----------+---------+---------+----------+----------+----------+-------+--------+-------+--------+-----------+\n",
      "|      date|home_team|away_team|home_score|away_score|tournament|   city| country|neutral|goal_dif|home_result|\n",
      "+----------+---------+---------+----------+----------+----------+-------+--------+-------+--------+-----------+\n",
      "|1872-11-30| Scotland|  England|         0|         0|  Friendly|Glasgow|Scotland|  FALSE|     0.0|          D|\n",
      "|1873-03-08|  England| Scotland|         4|         2|  Friendly| London| England|  FALSE|     2.0|          W|\n",
      "|1874-03-07| Scotland|  England|         2|         1|  Friendly|Glasgow|Scotland|  FALSE|     1.0|          W|\n",
      "|1875-03-06|  England| Scotland|         2|         2|  Friendly| London| England|  FALSE|     0.0|          D|\n",
      "|1876-03-04| Scotland|  England|         3|         0|  Friendly|Glasgow|Scotland|  FALSE|     3.0|          W|\n",
      "|1876-03-25| Scotland|    Wales|         4|         0|  Friendly|Glasgow|Scotland|  FALSE|     4.0|          W|\n",
      "|1877-03-03|  England| Scotland|         1|         3|  Friendly| London| England|  FALSE|    -2.0|          L|\n",
      "|1877-03-05|    Wales| Scotland|         0|         2|  Friendly|Wrexham|   Wales|  FALSE|    -2.0|          L|\n",
      "|1878-03-02| Scotland|  England|         7|         2|  Friendly|Glasgow|Scotland|  FALSE|     5.0|          W|\n",
      "|1878-03-23| Scotland|    Wales|         9|         0|  Friendly|Glasgow|Scotland|  FALSE|     9.0|          W|\n",
      "+----------+---------+---------+----------+----------+----------+-------+--------+-------+--------+-----------+\n",
      "only showing top 10 rows\n",
      "\n"
     ]
    }
   ],
   "source": [
    "df = df.withColumn('home_result',\n",
    "                   F.when(df.goal_dif < 0, \"L\") \\\n",
    "                   .when(df.goal_dif == 0, \"D\") \\\n",
    "                   .otherwise('W')\n",
    "                  )\n",
    "df.show(10)"
   ]
  },
  {
   "cell_type": "code",
   "execution_count": 17,
   "metadata": {
    "ExecuteTime": {
     "end_time": "2020-07-28T05:24:16.144070Z",
     "start_time": "2020-07-28T05:24:16.053069Z"
    }
   },
   "outputs": [
    {
     "name": "stdout",
     "output_type": "stream",
     "text": [
      "+----------+---------+---------+----------+----------+----------+-------+--------+-------+--------+\n",
      "|      date|home_team|away_team|home_score|away_score|tournament|   city| country|neutral|goal_dif|\n",
      "+----------+---------+---------+----------+----------+----------+-------+--------+-------+--------+\n",
      "|1872-11-30| Scotland|  England|         0|         0|  Friendly|Glasgow|Scotland|  FALSE|     0.0|\n",
      "|1873-03-08|  England| Scotland|         4|         2|  Friendly| London| England|  FALSE|     2.0|\n",
      "|1874-03-07| Scotland|  England|         2|         1|  Friendly|Glasgow|Scotland|  FALSE|     1.0|\n",
      "|1875-03-06|  England| Scotland|         2|         2|  Friendly| London| England|  FALSE|     0.0|\n",
      "|1876-03-04| Scotland|  England|         3|         0|  Friendly|Glasgow|Scotland|  FALSE|     3.0|\n",
      "+----------+---------+---------+----------+----------+----------+-------+--------+-------+--------+\n",
      "only showing top 5 rows\n",
      "\n"
     ]
    }
   ],
   "source": [
    "df = df.drop('home_result')\n",
    "df.show(5)"
   ]
  },
  {
   "cell_type": "markdown",
   "metadata": {},
   "source": [
    "# UDF (User Defined Function)\n",
    "When Python is really necessary for a function, create a UDF.\n",
    "\n",
    "UDF has to be **deterministic** (this is the spark's assumption and may run the function only once, even when called multiple times)"
   ]
  },
  {
   "cell_type": "code",
   "execution_count": 18,
   "metadata": {
    "ExecuteTime": {
     "end_time": "2020-07-28T05:24:17.063562Z",
     "start_time": "2020-07-28T05:24:16.146072Z"
    }
   },
   "outputs": [
    {
     "name": "stdout",
     "output_type": "stream",
     "text": [
      "+----------+---------+---------+----------+----------+----------+-------+--------+-------+--------+-----------+\n",
      "|      date|home_team|away_team|home_score|away_score|tournament|   city| country|neutral|goal_dif|dbl_h_score|\n",
      "+----------+---------+---------+----------+----------+----------+-------+--------+-------+--------+-----------+\n",
      "|1872-11-30| Scotland|  England|         0|         0|  Friendly|Glasgow|Scotland|  FALSE|     0.0|          0|\n",
      "|1873-03-08|  England| Scotland|         4|         2|  Friendly| London| England|  FALSE|     2.0|          8|\n",
      "|1874-03-07| Scotland|  England|         2|         1|  Friendly|Glasgow|Scotland|  FALSE|     1.0|          4|\n",
      "|1875-03-06|  England| Scotland|         2|         2|  Friendly| London| England|  FALSE|     0.0|          4|\n",
      "|1876-03-04| Scotland|  England|         3|         0|  Friendly|Glasgow|Scotland|  FALSE|     3.0|          6|\n",
      "+----------+---------+---------+----------+----------+----------+-------+--------+-------+--------+-----------+\n",
      "only showing top 5 rows\n",
      "\n"
     ]
    }
   ],
   "source": [
    "from pyspark.sql.types import IntegerType\n",
    "fn_double = F.udf(lambda x: int(x) * 2, IntegerType())\n",
    "df.withColumn('dbl_h_score', fn_double(df.home_score)).show(5)"
   ]
  },
  {
   "cell_type": "markdown",
   "metadata": {},
   "source": [
    "# Merge/Join"
   ]
  },
  {
   "cell_type": "code",
   "execution_count": 19,
   "metadata": {
    "ExecuteTime": {
     "end_time": "2020-07-28T05:24:17.638342Z",
     "start_time": "2020-07-28T05:24:17.065563Z"
    }
   },
   "outputs": [
    {
     "name": "stdout",
     "output_type": "stream",
     "text": [
      "+---------+---------+----------+----------+----------+----------+----------+----------+\n",
      "|home_team|away_team|      date|home_score|away_score|      date|home_score|away_score|\n",
      "+---------+---------+----------+----------+----------+----------+----------+----------+\n",
      "| Scotland|  England|1872-11-30|         0|         0|2017-06-10|         2|         2|\n",
      "| Scotland|  England|1872-11-30|         0|         0|2014-11-18|         1|         3|\n",
      "| Scotland|  England|1872-11-30|         0|         0|1999-11-13|         0|         2|\n",
      "| Scotland|  England|1872-11-30|         0|         0|1989-05-27|         0|         2|\n",
      "| Scotland|  England|1872-11-30|         0|         0|1987-05-23|         0|         0|\n",
      "| Scotland|  England|1872-11-30|         0|         0|1985-05-25|         1|         0|\n",
      "| Scotland|  England|1872-11-30|         0|         0|1984-05-26|         1|         1|\n",
      "| Scotland|  England|1872-11-30|         0|         0|1982-05-29|         0|         1|\n",
      "| Scotland|  England|1872-11-30|         0|         0|1980-05-24|         0|         2|\n",
      "| Scotland|  England|1872-11-30|         0|         0|1978-05-20|         0|         1|\n",
      "| Scotland|  England|1872-11-30|         0|         0|1976-05-15|         2|         1|\n",
      "| Scotland|  England|1872-11-30|         0|         0|1974-05-18|         2|         0|\n",
      "| Scotland|  England|1872-11-30|         0|         0|1973-02-14|         0|         5|\n",
      "| Scotland|  England|1872-11-30|         0|         0|1972-05-27|         0|         1|\n",
      "| Scotland|  England|1872-11-30|         0|         0|1970-04-25|         0|         0|\n",
      "| Scotland|  England|1872-11-30|         0|         0|1968-02-24|         1|         1|\n",
      "| Scotland|  England|1872-11-30|         0|         0|1966-04-02|         3|         4|\n",
      "| Scotland|  England|1872-11-30|         0|         0|1964-04-11|         1|         0|\n",
      "| Scotland|  England|1872-11-30|         0|         0|1962-04-14|         2|         0|\n",
      "| Scotland|  England|1872-11-30|         0|         0|1960-04-09|         1|         1|\n",
      "+---------+---------+----------+----------+----------+----------+----------+----------+\n",
      "only showing top 20 rows\n",
      "\n"
     ]
    }
   ],
   "source": [
    "df[['date', 'home_team', 'away_team', 'home_score', 'away_score']].join(\n",
    "    df[['date', 'home_team', 'away_team', 'home_score', 'away_score']],\n",
    "    on = ['home_team', 'away_team'],\n",
    "    how = 'inner'\n",
    "    ).show()"
   ]
  },
  {
   "cell_type": "code",
   "execution_count": 20,
   "metadata": {
    "ExecuteTime": {
     "end_time": "2020-07-28T05:24:17.653337Z",
     "start_time": "2020-07-28T05:24:17.640341Z"
    }
   },
   "outputs": [],
   "source": [
    "# left = df[['date', 'home_team', 'away_team', 'home_score', 'away_score']]\n",
    "# right = df[['date', 'home_team', 'away_team', 'home_score', 'away_score']]\n",
    "# left.join(right,\n",
    "#           [(left.home_team == right.away_team) & (left.away_team == right.home_team)],\n",
    "#           how = 'inner'\n",
    "#     ).show()"
   ]
  },
  {
   "cell_type": "markdown",
   "metadata": {},
   "source": [
    "# Describe"
   ]
  },
  {
   "cell_type": "code",
   "execution_count": 21,
   "metadata": {
    "ExecuteTime": {
     "end_time": "2020-07-28T05:24:18.402644Z",
     "start_time": "2020-07-28T05:24:17.654420Z"
    }
   },
   "outputs": [
    {
     "name": "stdout",
     "output_type": "stream",
     "text": [
      "+-------+----------+-------------+-------------+------------------+------------------+\n",
      "|summary|      date|    home_team|    away_team|        home_score|        away_score|\n",
      "+-------+----------+-------------+-------------+------------------+------------------+\n",
      "|  count|     41586|        41586|        41586|             41586|             41586|\n",
      "|   mean|      null|         null|         null| 1.745755783196268| 1.187587168758717|\n",
      "| stddev|      null|         null|         null|1.7537803404769956|1.4053234683358855|\n",
      "|    min|1872-11-30|     Abkhazia|     Abkhazia|                 0|                 0|\n",
      "|    max|2020-02-01|Åland Islands|Åland Islands|                 9|                 9|\n",
      "+-------+----------+-------------+-------------+------------------+------------------+\n",
      "\n"
     ]
    }
   ],
   "source": [
    "df[['date', 'home_team', 'away_team', 'home_score', 'away_score']].describe().show()"
   ]
  },
  {
   "cell_type": "markdown",
   "metadata": {},
   "source": [
    "# Charting\n",
    "Convert to pandas dataframe and chart\n",
    "\n",
    "For large dataframes, **sample** or **limit** the dataframe before converting to pandas."
   ]
  },
  {
   "cell_type": "code",
   "execution_count": 22,
   "metadata": {
    "ExecuteTime": {
     "end_time": "2020-07-28T05:24:19.092176Z",
     "start_time": "2020-07-28T05:24:18.404722Z"
    }
   },
   "outputs": [
    {
     "data": {
      "text/plain": [
       "array([[<matplotlib.axes._subplots.AxesSubplot object at 0x0000017F42273B88>]],\n",
       "      dtype=object)"
      ]
     },
     "execution_count": 22,
     "metadata": {},
     "output_type": "execute_result"
    },
    {
     "data": {
      "image/png": "[encoded data removed]",
      "text/plain": [
       "<Figure size 432x288 with 1 Axes>"
      ]
     },
     "metadata": {
      "needs_background": "light"
     },
     "output_type": "display_data"
    }
   ],
   "source": [
    "df[['goal_dif']].toPandas().hist()"
   ]
  },
  {
   "cell_type": "code",
   "execution_count": 23,
   "metadata": {
    "ExecuteTime": {
     "end_time": "2020-07-28T05:24:19.429457Z",
     "start_time": "2020-07-28T05:24:19.097606Z"
    },
    "scrolled": false
   },
   "outputs": [
    {
     "data": {
      "text/plain": [
       "array([[<matplotlib.axes._subplots.AxesSubplot object at 0x0000017F436D5D08>]],\n",
       "      dtype=object)"
      ]
     },
     "execution_count": 23,
     "metadata": {},
     "output_type": "execute_result"
    },
    {
     "data": {
      "image/png": "[encoded data removed]",
      "text/plain": [
       "<Figure size 432x288 with 1 Axes>"
      ]
     },
     "metadata": {
      "needs_background": "light"
     },
     "output_type": "display_data"
    }
   ],
   "source": [
    "df[['goal_dif']].sample(False, 0.1).toPandas().hist()"
   ]
  },
  {
   "cell_type": "markdown",
   "metadata": {},
   "source": [
    "# SQL style where"
   ]
  },
  {
   "cell_type": "code",
   "execution_count": 24,
   "metadata": {
    "ExecuteTime": {
     "end_time": "2020-07-28T05:24:19.756595Z",
     "start_time": "2020-07-28T05:24:19.433460Z"
    },
    "scrolled": true
   },
   "outputs": [
    {
     "name": "stdout",
     "output_type": "stream",
     "text": [
      "+----------+---------+---------+----------+----------+--------------+--------------+-------+-------+--------+\n",
      "|      date|home_team|away_team|home_score|away_score|    tournament|          city|country|neutral|goal_dif|\n",
      "+----------+---------+---------+----------+----------+--------------+--------------+-------+-------+--------+\n",
      "|1920-09-18|   Brazil|  Uruguay|         0|         6|  Copa América|  Viña del Mar|  Chile|   TRUE|    -6.0|\n",
      "|2014-07-08|   Brazil|  Germany|         1|         7|FIFA World Cup|Belo Horizonte| Brazil|  FALSE|    -6.0|\n",
      "+----------+---------+---------+----------+----------+--------------+--------------+-------+-------+--------+\n",
      "\n"
     ]
    }
   ],
   "source": [
    "df.where(\"home_team = 'Brazil' and away_score > 5\").show()"
   ]
  },
  {
   "cell_type": "markdown",
   "metadata": {},
   "source": [
    "# SQL"
   ]
  },
  {
   "cell_type": "code",
   "execution_count": 25,
   "metadata": {
    "ExecuteTime": {
     "end_time": "2020-07-28T05:24:19.980977Z",
     "start_time": "2020-07-28T05:24:19.757816Z"
    }
   },
   "outputs": [
    {
     "name": "stdout",
     "output_type": "stream",
     "text": [
      "+----------+-----------+----------------+----------+----------+\n",
      "|      date|  home_team|       away_team|home_score|away_score|\n",
      "+----------+-----------+----------------+----------+----------+\n",
      "|1912-03-24|Netherlands|         Germany|         5|         5|\n",
      "|1924-07-28|    Finland|          Sweden|         5|         7|\n",
      "|1928-05-06|    Hungary|         Austria|         5|         5|\n",
      "|1937-05-17|     Uganda|           Kenya|         9|         5|\n",
      "|1938-06-05|     Brazil|          Poland|         6|         5|\n",
      "|1947-06-28|New Zealand|    South Africa|         5|         6|\n",
      "|1950-10-15|Switzerland|     Netherlands|         7|         5|\n",
      "|1951-11-25|Netherlands|         Belgium|         6|         7|\n",
      "|1954-06-26|Switzerland|         Austria|         5|         7|\n",
      "|1956-11-16|  Indonesia|   United States|         7|         5|\n",
      "|1957-08-31|  Singapore|Vietnam Republic|         5|         5|\n",
      "|1958-08-13|     Norway|       German DR|         6|         5|\n",
      "|1964-10-09|     Uganda|         Burundi|         7|         5|\n",
      "|1974-07-10|   China PR|       Yemen DPR|         6|         5|\n",
      "|1982-02-15|      Ghana|     Ivory Coast|         5|         5|\n",
      "|1999-07-02|   Guernsey|        Shetland|         6|         5|\n",
      "|1999-09-04|Netherlands|         Belgium|         5|         5|\n",
      "+----------+-----------+----------------+----------+----------+\n",
      "\n"
     ]
    }
   ],
   "source": [
    "df.createOrReplaceGlobalTempView('df_view')\n",
    "df2 = spark.sql(\"\"\"\n",
    "                    select \n",
    "                        date, home_team, away_team, home_score, away_score\n",
    "                    from \n",
    "                        global_temp.df_view\n",
    "                    where \n",
    "                        home_score > 4\n",
    "                        and away_score > 4\n",
    "                    \"\"\")\n",
    "df2.show()"
   ]
  },
  {
   "cell_type": "code",
   "execution_count": 26,
   "metadata": {
    "ExecuteTime": {
     "end_time": "2020-07-28T05:24:20.012718Z",
     "start_time": "2020-07-28T05:24:19.983993Z"
    }
   },
   "outputs": [],
   "source": [
    "spark.catalog.dropGlobalTempView(\"df_view\")"
   ]
  }
 ],
 "metadata": {
  "kernelspec": {
   "display_name": "Python 3",
   "language": "python",
   "name": "python3"
  },
  "language_info": {
   "codemirror_mode": {
    "name": "ipython",
    "version": 3
   },
   "file_extension": ".py",
   "mimetype": "text/x-python",
   "name": "python",
   "nbconvert_exporter": "python",
   "pygments_lexer": "ipython3",
   "version": "3.7.4"
  },
  "toc": {
   "base_numbering": 1,
   "nav_menu": {},
   "number_sections": true,
   "sideBar": true,
   "skip_h1_title": false,
   "title_cell": "Table of Contents",
   "title_sidebar": "Contents",
   "toc_cell": false,
   "toc_position": {},
   "toc_section_display": true,
   "toc_window_display": true
  },
  "varInspector": {
   "cols": {
    "lenName": 16,
    "lenType": 16,
    "lenVar": 40
   },
   "kernels_config": {
    "python": {
     "delete_cmd_postfix": "",
     "delete_cmd_prefix": "del ",
     "library": "var_list.py",
     "varRefreshCmd": "print(var_dic_list())"
    },
    "r": {
     "delete_cmd_postfix": ") ",
     "delete_cmd_prefix": "rm(",
     "library": "var_list.r",
     "varRefreshCmd": "cat(var_dic_list()) "
    }
   },
   "types_to_exclude": [
    "module",
    "function",
    "builtin_function_or_method",
    "instance",
    "_Feature"
   ],
   "window_display": false
  }
 },
 "nbformat": 4,
 "nbformat_minor": 4
}
