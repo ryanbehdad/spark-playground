{
 "cells": [
  {
   "cell_type": "markdown",
   "metadata": {},
   "source": [
    "# Spark"
   ]
  },
  {
   "cell_type": "code",
   "execution_count": 5,
   "metadata": {},
   "outputs": [],
   "source": [
    "import pandas as pd\n",
    "from pyspark.sql import SparkSession\n",
    "import pyspark.sql.functions as F\n",
    "spark = SparkSession.builder.appName(\"notebook\").getOrCreate()"
   ]
  },
  {
   "cell_type": "code",
   "execution_count": 9,
   "metadata": {},
   "outputs": [],
   "source": [
    "file_name=\"C:/Temp/credit_risk/Outcomes - v19.csv\"\n",
    "df = spark.read.options(header=\"true\").csv(file_name)"
   ]
  },
  {
   "cell_type": "code",
   "execution_count": 10,
   "metadata": {},
   "outputs": [
    {
     "data": {
      "text/plain": [
       "StructType(List(StructField(ApplicationId,StringType,true),StructField(ShortApplicationId,StringType,true),StructField(LoanId,StringType,true),StructField(FriendlyLoanId,StringType,true),StructField(AssessmentId,StringType,true),StructField(IsOnline,StringType,true),StructField(IsImported,StringType,true),StructField(LoanStartDate,StringType,true),StructField(ContractedEndDate,StringType,true),StructField(LoanType,StringType,true),StructField(LoanTermInDays,StringType,true),StructField(ActualLoanTermInDays,StringType,true),StructField(NominalLoanTerminDays,StringType,true),StructField(ContractValue,StringType,true),StructField(PrincipalAdvanced,StringType,true),StructField(RequestedPersonalLoanAmount,StringType,true),StructField(NetRepayments,StringType,true),StructField(FinancingCost,StringType,true),StructField(CommissionCost,StringType,true),StructField(CollectionsCost,StringType,true),StructField(OtherCost,StringType,true),StructField(LoanProfit,StringType,true),StructField(IsFailed,StringType,true),StructField(FailedAmount,StringType,true),StructField(FailureReason,StringType,true),StructField(FailedDate,StringType,true),StructField(IsWrittenOff,StringType,true),StructField(WrittenOffAmount,StringType,true),StructField(WrittenOffDate,StringType,true),StructField(IsFirstRepaymentDeclined,StringType,true),StructField(FirstDishonourDate,StringType,true),StructField(Balance,StringType,true),StructField(InterestCharged,StringType,true),StructField(FeesCharged,StringType,true),StructField(IsDowngrade,StringType,true),StructField(CreditRiskSaccGroup,StringType,true),StructField(CreditRiskMaccGroup,StringType,true),StructField(CreditRiskScoreSaccV1,StringType,true),StructField(CreditRiskScoreSaccV2,StringType,true),StructField(CreditRiskScoreMaccV1,StringType,true),StructField(SaccExperimentId,StringType,true),StructField(MaccExperimentId,StringType,true),StructField(DaysKRated,StringType,true),StructField(SettledDate,StringType,true)))"
      ]
     },
     "execution_count": 10,
     "metadata": {},
     "output_type": "execute_result"
    }
   ],
   "source": [
    "# instead of dtypes\n",
    "df.schema"
   ]
  },
  {
   "cell_type": "code",
   "execution_count": 13,
   "metadata": {},
   "outputs": [],
   "source": [
    "cols = [\n",
    " 'LoanStartDate',\n",
    " 'ContractedEndDate',\n",
    " 'LoanType',\n",
    " 'PrincipalAdvanced',\n",
    "#  'LoanProfit',\n",
    " 'CreditRiskSaccGroup',\n",
    " 'CreditRiskMaccGroup'\n",
    "]"
   ]
  },
  {
   "cell_type": "code",
   "execution_count": 14,
   "metadata": {},
   "outputs": [
    {
     "name": "stdout",
     "output_type": "stream",
     "text": [
      "+-------------+-----------------+--------+-----------------+-------------------+-------------------+\n",
      "|LoanStartDate|ContractedEndDate|LoanType|PrincipalAdvanced|CreditRiskSaccGroup|CreditRiskMaccGroup|\n",
      "+-------------+-----------------+--------+-----------------+-------------------+-------------------+\n",
      "|   2017-01-01|       2017-12-20|       2|              600|            Control|            Control|\n",
      "|   2017-01-01|       2017-12-28|       2|              600|            Control|            Control|\n",
      "|   2017-01-01|       2017-12-29|       2|              600|            Control|            Control|\n",
      "|   2017-01-01|       2017-12-19|       2|              600|            Control|            Control|\n",
      "+-------------+-----------------+--------+-----------------+-------------------+-------------------+\n",
      "only showing top 4 rows\n",
      "\n"
     ]
    }
   ],
   "source": [
    "df[cols].show(4)"
   ]
  },
  {
   "cell_type": "code",
   "execution_count": null,
   "metadata": {},
   "outputs": [],
   "source": []
  }
 ],
 "metadata": {
  "kernelspec": {
   "display_name": "Python 3",
   "language": "python",
   "name": "python3"
  },
  "language_info": {
   "codemirror_mode": {
    "name": "ipython",
    "version": 3
   },
   "file_extension": ".py",
   "mimetype": "text/x-python",
   "name": "python",
   "nbconvert_exporter": "python",
   "pygments_lexer": "ipython3",
   "version": "3.8.3"
  }
 },
 "nbformat": 4,
 "nbformat_minor": 4
}
