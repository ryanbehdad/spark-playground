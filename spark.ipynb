{
 "cells": [
  {
   "cell_type": "markdown",
   "metadata": {},
   "source": [
    "# Spark\n",
    "Play with different functionalities of spark (pyspark) in Jypyter notebook"
   ]
  },
  {
   "cell_type": "code",
   "execution_count": 5,
   "metadata": {},
   "outputs": [],
   "source": [
    "import pandas as pd\n",
    "from pyspark.sql import SparkSession\n",
    "import pyspark.sql.functions as F\n",
    "spark = SparkSession.builder.appName(\"notebook\").getOrCreate()"
   ]
  },
  {
   "cell_type": "code",
   "execution_count": 15,
   "metadata": {},
   "outputs": [],
   "source": [
    "file_name=\"data/results.csv\"\n",
    "df = spark.read.options(header=\"true\").csv(file_name)"
   ]
  },
  {
   "cell_type": "code",
   "execution_count": 16,
   "metadata": {},
   "outputs": [
    {
     "data": {
      "text/plain": [
       "StructType(List(StructField(date,StringType,true),StructField(home_team,StringType,true),StructField(away_team,StringType,true),StructField(home_score,StringType,true),StructField(away_score,StringType,true),StructField(tournament,StringType,true),StructField(city,StringType,true),StructField(country,StringType,true),StructField(neutral,StringType,true)))"
      ]
     },
     "execution_count": 16,
     "metadata": {},
     "output_type": "execute_result"
    }
   ],
   "source": [
    "# instead of dtypes\n",
    "df.schema"
   ]
  },
  {
   "cell_type": "code",
   "execution_count": 18,
   "metadata": {},
   "outputs": [
    {
     "name": "stdout",
     "output_type": "stream",
     "text": [
      "+----------+---------+---------+----------+----------+----------+-------+--------+-------+\n",
      "|      date|home_team|away_team|home_score|away_score|tournament|   city| country|neutral|\n",
      "+----------+---------+---------+----------+----------+----------+-------+--------+-------+\n",
      "|1872-11-30| Scotland|  England|         0|         0|  Friendly|Glasgow|Scotland|  FALSE|\n",
      "|1873-03-08|  England| Scotland|         4|         2|  Friendly| London| England|  FALSE|\n",
      "|1874-03-07| Scotland|  England|         2|         1|  Friendly|Glasgow|Scotland|  FALSE|\n",
      "|1875-03-06|  England| Scotland|         2|         2|  Friendly| London| England|  FALSE|\n",
      "+----------+---------+---------+----------+----------+----------+-------+--------+-------+\n",
      "only showing top 4 rows\n",
      "\n"
     ]
    }
   ],
   "source": [
    "df.show(4)"
   ]
  },
  {
   "cell_type": "code",
   "execution_count": 19,
   "metadata": {},
   "outputs": [
    {
     "name": "stdout",
     "output_type": "stream",
     "text": [
      "+----------+---------+---------+----------+----------+\n",
      "|      date|home_team|away_team|home_score|away_score|\n",
      "+----------+---------+---------+----------+----------+\n",
      "|1872-11-30| Scotland|  England|         0|         0|\n",
      "|1873-03-08|  England| Scotland|         4|         2|\n",
      "|1874-03-07| Scotland|  England|         2|         1|\n",
      "|1875-03-06|  England| Scotland|         2|         2|\n",
      "+----------+---------+---------+----------+----------+\n",
      "only showing top 4 rows\n",
      "\n"
     ]
    }
   ],
   "source": [
    "cols = ['date', 'home_team', 'away_team', 'home_score', 'away_score']\n",
    "df[cols].show(4)"
   ]
  }
 ],
 "metadata": {
  "kernelspec": {
   "display_name": "Python 3",
   "language": "python",
   "name": "python3"
  },
  "language_info": {
   "codemirror_mode": {
    "name": "ipython",
    "version": 3
   },
   "file_extension": ".py",
   "mimetype": "text/x-python",
   "name": "python",
   "nbconvert_exporter": "python",
   "pygments_lexer": "ipython3",
   "version": "3.8.3"
  }
 },
 "nbformat": 4,
 "nbformat_minor": 4
}
